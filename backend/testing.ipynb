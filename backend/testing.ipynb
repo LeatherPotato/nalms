{
 "cells": [
  {
   "cell_type": "markdown",
   "metadata": {},
   "source": [
    "# Testing\n",
    "I will be testing all of my code in this jupyter notebook, and show the success/failure of my tests here, to show that all of my code is working.\n",
    "I will be adding the name of the test in a comment at the top of each cell, and comment why i am performing the different tests im using."
   ]
  },
  {
   "cell_type": "code",
   "execution_count": null,
   "metadata": {},
   "outputs": [],
   "source": [
    "# ISBN 10 TO 13 CONVERSIONS TESTING\n",
    "# conversions.py\n",
    "\n",
    "from conversions import convert_isbn\n",
    "input = \"1-85326-158-0\"\n",
    "expected_output = \"978-1-85326-158-9\"\n",
    "recieved_output = convert_isbn(input)\n",
    "print(f\"test with hyphens passed: {expected_output==recieved_output}\")\n",
    "# ISBN ignores hyphens, so i will test that it works with or without them\n",
    "no_hyphen_input = \"1853261580\"\n",
    "no_hyphen_expected_output = \"978-1853261589\"\n",
    "no_hyphen_recieved_output = convert_isbn(no_hyphen_input)\n",
    "print(f\"test without hyphens passed: {no_hyphen_expected_output==no_hyphen_recieved_output}\")\n",
    "\n",
    "# BOTH TESTS PASSED"
   ]
  },
  {
   "cell_type": "code",
   "execution_count": null,
   "metadata": {},
   "outputs": [],
   "source": [
    "# BOOK IBJECT FROM ISBN\n",
    "# custom_classes.py\n",
    "\n",
    "# from custom_classes import Book\n",
    "# testBook = Book(\"9798595265973\", \"nonfiction\")\n",
    "# # for this test, i will be using my Proofs textbook by Jay Cummings as i can verify the details on my physical copy\n",
    "# print(vars(testBook))\n",
    "\n",
    "# TEST PASSED\n",
    "\n",
    "# \"publisher_name\": \"\"\n",
    "# i should add a NONE publisher into my database, for books like this one which were self published."
   ]
  },
  {
   "cell_type": "code",
   "execution_count": null,
   "metadata": {},
   "outputs": [],
   "source": [
    "# DATABASE CREATION FUNCTIONS TESTING\n",
    "from db import Database\n",
    "import variables\n",
    "my_db = Database(variables.DATABASE_PATH)"
   ]
  },
  {
   "cell_type": "code",
   "execution_count": null,
   "metadata": {
    "tags": []
   },
   "outputs": [],
   "source": [
    "# import sqlite3\n",
    "# import variables\n",
    "# con = sqlite3.connect(variables.DATABASE_PATH)\n",
    "# cur = con.cursor()\n",
    "# cur.execute(\"INSERT OR REPLACE INTO PUBLISHERS (PublisherId, PublisherName) VALUES (0, 'NONE')\")\n",
    "# con.commit()\n",
    "# con.close()\n",
    "# SUCCESS\n",
    "# WILL COMMENT NOW, SINCE THE SELF-PUBLISHED FIELD HAS NOW BEEN ADDED"
   ]
  },
  {
   "cell_type": "code",
   "execution_count": null,
   "metadata": {},
   "outputs": [],
   "source": [
    "# testing database creation\n",
    "# bookId = my_db.create_book(Book=testBook)\n",
    "# print(bookId)\n",
    "\n",
    "# ProgrammingError: Incorrect number of bindings supplied. The current statement uses 1, and there are 12 supplied.\n",
    "# ERROR FIX: fixed all db code by adding a comma at the end of the 'tuple' to make them tuples\n",
    "\n",
    "# ACCIDENRALLY CREATED 2 COPIES, WILL ADD CHECKING FOR BOOK DATA ID, AND DELETE THE EXTRA DATA\n",
    "\n",
    "# SUCCESS! NO LONGER CREATES ADDITIONAL BOOK DATA RECORD, KEEPING DATA ATOMIC\n",
    "# this also tested every other function except for the password checking function. will test that once i write the user creation function"
   ]
  },
  {
   "cell_type": "code",
   "execution_count": null,
   "metadata": {},
   "outputs": [],
   "source": [
    "# testing book borrowing\n",
    "# bookId = 1\n",
    "# userId = 1\n",
    "# my_db.borrow_book(userId, bookId)\n",
    "# print(my_db.availability_book(bookId)) # SHOULD RETURN 0\n",
    "\n",
    "# my_db.return_book(userId, bookId)\n",
    "# print(my_db.availability_book(bookId)) # SHOULD RETURN 1\n",
    "\n",
    "# TEST PASSED!"
   ]
  },
  {
   "cell_type": "code",
   "execution_count": null,
   "metadata": {},
   "outputs": [],
   "source": [
    "from custom_classes import User\n",
    "user1 = User(input_fname=\"Amir\", input_lname=\"Jafarpour\", input_password=\"PASSWORD1\", input_schoolYear=10, input_username=\"samsmith10\", perms=\"0100\", email=\"testemail1@email.com\")\n",
    "user2 = User(input_fname=\"Saoirse\", input_lname=\"Currel\", input_password=\"PASSWORD2\", input_schoolYear=13, input_username=\"test_username\", perms=\"1000\", email=\"testemail2@email.com\")\n",
    "usernameDuplicateTest = User(input_fname=\"firstname\", input_lname=\"lastname\", input_password=\"PASSWORD3\", input_schoolYear=7, input_username=\"test_username\", perms=\"0000\", email=\"testemail3@email.com\")\n",
    "# print(user1.__dict__)\n",
    "# print(user2.__dict__)\n",
    "# print(usernameDuplicateTest.__dict__)\n",
    "# TEST SUCCESS, PRINTED CORRECT USER DATA\n",
    "\n",
    "# testing user creation\n",
    "# userId1 = my_db.create_user(user1) # TESTS FINISHED WITH NO ISSUES\n",
    "# userId2 = my_db.create_user(user2) # TESTS FINISHED WITH NO ISSUES\n",
    "# userId3 = my_db.create_user(usernameDuplicateTest) # THREW INTEGRITY ERROR FOR USERNAME AS EXPECTED\n",
    "# TEST SUCCESS! created users and ensured username uniqueness.\n",
    "userId1 = 1\n",
    "userID2 = 2\n",
    "# ^ retrieved manually from database\n",
    "\n",
    "# testing user password checking\n",
    "# print(my_db.check_user_password(user1.username, user1.password)) # RETURNED TRUE\n",
    "# print(my_db.check_user_password(user1.username, \"WRONG PASSWORD\")) # RETURNED TRUE\n",
    "# TEST SUCCEEDED. \n",
    "\n",
    "# testing user password changing\n",
    "# user1NewPassword = \"NEWPASSWORD\"\n",
    "# my_db.change_password(user1NewPassword, userId1)\n",
    "# print(my_db.check_user_password(user1.username, user1NewPassword)) # RETURNED TRUE\n",
    "# TEST SUCCESS\n",
    "\n",
    "# testing username changing\n",
    "user1NewUsername = \"amirjeff16\"\n",
    "# print(my_db.update_username(user1NewUsername, userId1)) # RETURNED DONE\n",
    "# and to test that itll not attempt to update a username to an existing one:\n",
    "# print(my_db.update_username(user1NewUsername, userID2)) # RETURNED USERNAME_TAKEN\n",
    "# TEST SUCCESS\n",
    "\n",
    "# testing user info editing\n",
    "newUser1 = user1\n",
    "# newUser1.firstName, newUser1.lastName = \"sam\", \"smith\"\n",
    "# my_db.edit_user(newUser1, userId1) # MANUALLY CHECKED: EDITED FIRST AND LAST NAME FIELDS TO MATCH THE NEW INPUT.\n",
    "# TEST SUCCESS\n",
    "\n",
    "# testing user permission checking\n",
    "print(my_db.check_user_permissions(userId1, 8)) # REQUIRES 1000, returns false\n",
    "print(my_db.check_user_permissions(userId1, 4)) # REQUIRES 0100, returns true\n",
    "print(my_db.check_user_permissions(userId1, 2)) # REQUIRES 0010, returns true\n",
    "print(my_db.check_user_permissions(userId1, 1)) # REQUIRES 0010, returns true\n",
    "\n",
    "# TESTS SUCCESS!"
   ]
  },
  {
   "cell_type": "code",
   "execution_count": null,
   "metadata": {},
   "outputs": [],
   "source": [
    "# test genre edit\n",
    "# genreID = 1\n",
    "# my_db.edit_genre(\"non-fiction\", genreID) # CHANGED VALUE IN DB\n",
    "\n",
    "# test author edit\n",
    "# authorId = 1\n",
    "# my_db.edit_author(\"JC\", authorId) # CHANGED VALUE IN DB\n",
    "\n",
    "#  test publisher edit\n",
    "# publisherId = 0\n",
    "# my_db.edit_publisher(\"SELF-PUBLISHED\", publisherId) # CHANGED VALUE IN DB\n",
    "\n",
    "#TEST SUCCESS!\n",
    "# will change author name back now.\n",
    "# my_db.edit_author(\"Jay Cummings\", authorId) # CHANGED VALUE IN DB\n"
   ]
  },
  {
   "cell_type": "code",
   "execution_count": null,
   "metadata": {},
   "outputs": [],
   "source": [
    "# test notification creation\n",
    "userId = 1\n",
    "# notificationId = my_db.create_notification(userId, \"TEST NOTIFICATION\", \"TEST\")\n",
    "# print(notificationId)\n",
    "\n",
    "# test read notification\n",
    "# my_db.read_notification(notificationId) # CHCKED, CHANGED NotificationRead to 1\n",
    "\n",
    "# test hold request creation\n",
    "bookId = 1\n",
    "# my_db.create_hold_request(bookId, userId) # TEST SUCCESS! CREATE HOLD\n",
    "\n",
    "\n",
    "# test hold request editing\n",
    "my_db.edit_hold_request(bookId, userId, 0) # EDITED HOLD REQUEST\n"
   ]
  },
  {
   "cell_type": "code",
   "execution_count": 1,
   "metadata": {},
   "outputs": [
    {
     "name": "stdout",
     "output_type": "stream",
     "text": [
      "True\n",
      "False\n",
      "True\n",
      "False\n",
      "True\n",
      "False\n"
     ]
    }
   ],
   "source": [
    "# TESTING DATA VALIDATION\n",
    "\n",
    "import validation\n",
    "validEmail = \"email123@mail.com\"\n",
    "# contains only alphanumeric characters, and in rfc2822 format\n",
    "print(validation.validate_email(validEmail)) # RETURNS TRUE\n",
    "invalidEmail = \"notan//email.@not#asite,com\"\n",
    "print(validation.validate_email(invalidEmail)) # RETURNS FALSE\n",
    "# TEST SUCCESS\n",
    "\n",
    "validPassword = \"validPassword17\"\n",
    "print(validation.validate_password(validPassword)) # RETURNS TRUE\n",
    "invalidPassword = \"notavalid//password\"\n",
    "print(validation.validate_password(invalidPassword)) # RETURNS FALSE\n",
    "# TEST SUCCESS\n",
    "\n",
    "validUsername = \"validusername17\"\n",
    "print(validation.validate_username(validUsername)) # RETURNS TRUE\n",
    "invalidUsername = \"INVALIDusername.\"\n",
    "print(validation.validate_username(invalidUsername)) # RETURNS FALSE\n",
    "# TEST SUCCESS"
   ]
  }
 ],
 "metadata": {
  "kernelspec": {
   "display_name": ".venv",
   "language": "python",
   "name": "python3"
  },
  "language_info": {
   "codemirror_mode": {
    "name": "ipython",
    "version": 3
   },
   "file_extension": ".py",
   "mimetype": "text/x-python",
   "name": "python",
   "nbconvert_exporter": "python",
   "pygments_lexer": "ipython3",
   "version": "3.12.0"
  }
 },
 "nbformat": 4,
 "nbformat_minor": 2
}
