{
 "cells": [
  {
   "cell_type": "markdown",
   "metadata": {},
   "source": [
    "# Testing\n",
    "I will be testing all of my code in this jupyter notebook, and show the success/failure of my tests here, to show that all of my code is working.\n",
    "I will be adding the name of the test in a comment at the top of each cell, and comment why i am performing the different tests im using."
   ]
  },
  {
   "cell_type": "code",
   "execution_count": 1,
   "metadata": {},
   "outputs": [
    {
     "name": "stdout",
     "output_type": "stream",
     "text": [
      "test with hyphens passed: True\n",
      "test without hyphens passed: True\n"
     ]
    }
   ],
   "source": [
    "# ISBN 10 TO 13 CONVERSIONS TESTING\n",
    "# conversions.py\n",
    "\n",
    "from conversions import convert_isbn\n",
    "input = \"1-85326-158-0\"\n",
    "expected_output = \"978-1-85326-158-9\"\n",
    "recieved_output = convert_isbn(input)\n",
    "print(f'test with hyphens passed: {expected_output==recieved_output}')\n",
    "# ISBN ignores hyphens, so i will test that it works with or without them\n",
    "no_hyphen_input = \"1853261580\"\n",
    "no_hyphen_expected_output = \"978-1853261589\"\n",
    "no_hyphen_recieved_output = convert_isbn(no_hyphen_input)\n",
    "print(f'test without hyphens passed: {no_hyphen_expected_output==no_hyphen_recieved_output}')\n",
    "\n",
    "# BOTH TESTS PASSED"
   ]
  },
  {
   "cell_type": "code",
   "execution_count": 2,
   "metadata": {},
   "outputs": [
    {
     "name": "stdout",
     "output_type": "stream",
     "text": [
      "no cover image\n",
      "{'isbn': '9798595265973', 'title': 'Proofs - A Long-Form Mathematics Textbook', 'genre_name': 'nonfiction', 'genre_id': 0, 'publication_date': '2021', 'author_name': 'Jay Cummings', 'author_id': 0, 'publisher_name': '', 'publisher_id': 0, 'description': 'This textbook is designed for students. Rather than the typical definition-\\ntheorem-proof-repeat style, this text includes much more commentary,\\nmotivation and explanation. The proofs are not terse, and aim for\\nunderstanding over economy. Furthermore, dozens of proofs are preceded by\\n\"scratch work\" or a proof sketch to give students a big-picture view and an\\nexplanation of how they would come up with it on their own.This book covers\\nintuitive proofs, direct proofs, sets, induction, logic, the\\ncontrapositive, contradiction, functions and relations. The text aims to\\nmake the ideas visible, and contains over 200 illustrations. The writing is\\nrelaxed and conversational, and includes periodic attempts at humor.This\\ntext is also an introduction to higher mathematics. This is done in-part\\nthrough the chosen examples and theorems. Furthermore, following every\\nchapter is an introduction to an area of math. These include Ramsey theory,\\nnumber theory, topology, sequences, real analysis, big data, game theory,\\ncardinality and group theory.After every chapter are \"pro-tips,\" which are\\nshort thoughts on things I wish I had known when I took my intro-to-proofs\\nclass. They include finer comments on the material, study tips, historical\\nnotes, comments on mathematical culture, and more. Also, after each\\nchapter\\'s exercises is an introduction to an unsolved problem in\\nmathematics.In the first appendix we discuss some further proof methods,\\nthe second appendix is a collection of particularly beautiful proofs, and\\nthe third is some writing advice.', 'cover_image': 'NONE'}\n"
     ]
    }
   ],
   "source": [
    "# BOOK IBJECT FROM ISBN\n",
    "# custom_classes.py\n",
    "\n",
    "from custom_classes import Book\n",
    "testBook = Book('9798595265973', 'nonfiction')\n",
    "# for this test, i will be using my Proofs textbook by Jay Cummings as i can verify the details on my physical copy\n",
    "print(vars(testBook))\n",
    "\n",
    "# TEST PASSED\n",
    "\n",
    "# 'publisher_name': ''\n",
    "# i should add a NONE publisher into my database, for books like this one which were self published."
   ]
  },
  {
   "cell_type": "code",
   "execution_count": 3,
   "metadata": {},
   "outputs": [],
   "source": [
    "# DATABASE CREATION FUNCTIONS TESTING\n",
    "from db import Database\n",
    "import variables\n",
    "my_db = Database(variables.DATABASE_PATH)"
   ]
  },
  {
   "cell_type": "code",
   "execution_count": 4,
   "metadata": {
    "tags": []
   },
   "outputs": [],
   "source": [
    "# import sqlite3\n",
    "# import variables\n",
    "# con = sqlite3.connect(variables.DATABASE_PATH)\n",
    "# cur = con.cursor()\n",
    "# cur.execute(\"INSERT OR REPLACE INTO PUBLISHERS (PublisherId, PublisherName) VALUES (0, 'NONE')\")\n",
    "# con.commit()\n",
    "# con.close()\n",
    "# SUCCESS\n",
    "# WILL COMMENT NOW, SINCE THE SELF-PUBLISHED FIELD HAS NOW BEEN ADDED"
   ]
  },
  {
   "cell_type": "code",
   "execution_count": 5,
   "metadata": {},
   "outputs": [
    {
     "name": "stdout",
     "output_type": "stream",
     "text": [
      "(1,)\n"
     ]
    }
   ],
   "source": [
    "# testing database creation\n",
    "bookId = my_db.create_book(Book=testBook)\n",
    "print(bookId)\n",
    "\n",
    "# ProgrammingError: Incorrect number of bindings supplied. The current statement uses 1, and there are 12 supplied.\n",
    "# ERROR FIX: fixed all db code by adding a comma at the end of the 'tuple' to make them tuples\n",
    "\n",
    "# ACCIDENRALLY CREATED 2 COPIES, WILL ADD CHECKING FOR BOOK DATA ID, AND DELETE THE EXTRA DATA\n",
    "\n",
    "# SUCCESS! NO LONGER CREATES ADDITIONAL BOOK DATA RECORD, KEEPING DATA ATOMIC\n",
    "# this also tested every other function except for the password checking function. will test that once i write the user creation function"
   ]
  },
  {
   "cell_type": "code",
   "execution_count": null,
   "metadata": {},
   "outputs": [],
   "source": []
  }
 ],
 "metadata": {
  "kernelspec": {
   "display_name": ".venv",
   "language": "python",
   "name": "python3"
  },
  "language_info": {
   "codemirror_mode": {
    "name": "ipython",
    "version": 3
   },
   "file_extension": ".py",
   "mimetype": "text/x-python",
   "name": "python",
   "nbconvert_exporter": "python",
   "pygments_lexer": "ipython3",
   "version": "3.12.0"
  }
 },
 "nbformat": 4,
 "nbformat_minor": 2
}
