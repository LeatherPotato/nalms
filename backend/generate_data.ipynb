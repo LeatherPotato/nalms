{
 "cells": [
  {
   "cell_type": "code",
   "execution_count": 1,
   "metadata": {},
   "outputs": [],
   "source": [
    "import sqlite3"
   ]
  },
  {
   "cell_type": "code",
   "execution_count": 2,
   "metadata": {},
   "outputs": [],
   "source": [
    "import variables\n",
    "from db import Database \n",
    "my_db = Database(db_path=variables.DATABASE_PATH)"
   ]
  },
  {
   "cell_type": "markdown",
   "metadata": {},
   "source": [
    "# ADD GENRES TO TABLE\n",
    "genres_list = ['action', 'adventure', 'comedy', 'thriller', 'death game', 'fantasy', 'science fiction', 'historical', 'horror', 'romance', 'nonfiction']\n",
    "for genre in genres_list:\n",
    "    my_db.create_genre(genreName=genre)"
   ]
  },
  {
   "cell_type": "code",
   "execution_count": 3,
   "metadata": {},
   "outputs": [],
   "source": [
    "from custom_classes import Book"
   ]
  },
  {
   "cell_type": "markdown",
   "metadata": {},
   "source": [
    "# ADD DIARY OF A WIMPY KID\n",
    "isbns = [\n",
    "    '978-0-8109-9313-6',\n",
    "    '978-0-8109-9473-7',\n",
    "    '978-0-8109-7068-7',\n",
    "    '978-0-8109-8391-5',\n",
    "    '9780141340821'\n",
    "]\n",
    "\n",
    "for isbn in isbns:\n",
    "    currentBook=Book(isbn13=isbn, genre_name=\"comedy\")\n",
    "    print(currentBook.__dict__)\n",
    "    my_db.create_book(Book=currentBook)"
   ]
  },
  {
   "cell_type": "markdown",
   "metadata": {},
   "source": [
    "# ADD HARRY POTTER\n",
    "from conversions import convert_isbn\n",
    "\n",
    "isbns = [\n",
    "    '0590353403',\n",
    "    '0439064864',\n",
    "    '0439136350',\n",
    "    '0439139597',\n",
    "    '043935806X',\n",
    "    '0439784549',\n",
    "    '0545010225'\n",
    "]\n",
    "\n",
    "for isbn in isbns:\n",
    "    convertedISbn = convert_isbn(inputISBN=isbn)\n",
    "    print(convertedISbn)\n",
    "    currentBook = Book(isbn13=convertedISbn, genre_name='fantasy')\n",
    "    print(currentBook.__dict__)\n",
    "    my_db.create_book(Book=currentBook)"
   ]
  },
  {
   "cell_type": "code",
   "execution_count": 5,
   "metadata": {},
   "outputs": [],
   "source": [
    "# CREATE DUMMY BOOK DATA\n"
   ]
  },
  {
   "cell_type": "code",
   "execution_count": 6,
   "metadata": {},
   "outputs": [],
   "source": [
    "# CREATE LIBRARIAN DATA"
   ]
  },
  {
   "cell_type": "code",
   "execution_count": 7,
   "metadata": {},
   "outputs": [],
   "source": [
    "# ADD LIBRARIANS TO DATABASE"
   ]
  }
 ],
 "metadata": {
  "kernelspec": {
   "display_name": ".venv",
   "language": "python",
   "name": "python3"
  },
  "language_info": {
   "codemirror_mode": {
    "name": "ipython",
    "version": 3
   },
   "file_extension": ".py",
   "mimetype": "text/x-python",
   "name": "python",
   "nbconvert_exporter": "python",
   "pygments_lexer": "ipython3",
   "version": "3.12.0"
  }
 },
 "nbformat": 4,
 "nbformat_minor": 2
}
